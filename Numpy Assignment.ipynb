{
 "cells": [
  {
   "cell_type": "code",
   "execution_count": 1,
   "metadata": {},
   "outputs": [],
   "source": [
    "import numpy as np"
   ]
  },
  {
   "cell_type": "markdown",
   "metadata": {},
   "source": [
    "### 1. Write a function so that the columns of the output matrix are powers of the input vector.\n",
    "The order of the powers is determined by the increasing boolean argument. Specifically, when\n",
    "increasing is False, the i-th output column is the input vector raised element-wise to the power\n",
    "of N - i - 1.\n",
    "\n",
    "HINT: Such a matrix with a geometric progression in each row is named for Alexandre-\n",
    "Theophile Vandermonde."
   ]
  },
  {
   "cell_type": "code",
   "execution_count": 15,
   "metadata": {},
   "outputs": [
    {
     "data": {
      "text/plain": [
       "array([[  1,   1,   1,   1],\n",
       "       [  1,   2,   4,   8],\n",
       "       [  1,   3,   9,  27],\n",
       "       [  1,   5,  25, 125]])"
      ]
     },
     "execution_count": 15,
     "metadata": {},
     "output_type": "execute_result"
    }
   ],
   "source": [
    "x = np.array([1, 2, 3, 5])\n",
    "np.vander(x,increasing=True)"
   ]
  },
  {
   "cell_type": "markdown",
   "metadata": {},
   "source": [
    "### 2. Write a function to find moving average in an array over a window:\n",
    "Test it over [3, 5, 7, 2, 8, 10, 11, 65, 72, 81, 99, 100, 150] and window of 3."
   ]
  },
  {
   "cell_type": "code",
   "execution_count": 16,
   "metadata": {},
   "outputs": [
    {
     "name": "stdout",
     "output_type": "stream",
     "text": [
      "Moving average values list:  [  5.     4.67   5.67   6.67   9.67  28.67  49.33  72.67  84.    93.33\n",
      " 116.33]\n",
      "Length of the list l-N+1:  11\n"
     ]
    }
   ],
   "source": [
    "def Moving_avg(a,n) :\n",
    "    cavg=np.cumsum(a,dtype=float)\n",
    "    cavg[n:]=cavg[n:]-cavg[:-n]\n",
    "    return cavg[n-1:]/n\n",
    "\n",
    "a=[3, 5, 7, 2, 8, 10, 11, 65, 72, 81, 99, 100, 150]\n",
    "k=Moving_avg(a,3).round(2)\n",
    "\n",
    "print(\"Moving average values list: \",k)\n",
    "print(\"Length of the list l-N+1: \", len(k))"
   ]
  },
  {
   "cell_type": "code",
   "execution_count": null,
   "metadata": {},
   "outputs": [],
   "source": []
  }
 ],
 "metadata": {
  "kernelspec": {
   "display_name": "Python 3",
   "language": "python",
   "name": "python3"
  },
  "language_info": {
   "codemirror_mode": {
    "name": "ipython",
    "version": 3
   },
   "file_extension": ".py",
   "mimetype": "text/x-python",
   "name": "python",
   "nbconvert_exporter": "python",
   "pygments_lexer": "ipython3",
   "version": "3.8.5"
  }
 },
 "nbformat": 4,
 "nbformat_minor": 4
}
