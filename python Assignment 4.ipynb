{
 "cells": [
  {
   "cell_type": "markdown",
   "metadata": {},
   "source": [
    "# Python Assignment 4"
   ]
  },
  {
   "cell_type": "markdown",
   "metadata": {},
   "source": [
    "### 1.1 Write a Python Program(with class concepts) to find the area of the triangle using the below formula.\n",
    "area = (s*(s-a)*(s-b)*(s-c)) ** 0.5\n",
    "Function to take the length of the sides of triangle from user should be defined in the parent\n",
    "class and function to calculate the area should be defined in subclass."
   ]
  },
  {
   "cell_type": "code",
   "execution_count": 33,
   "metadata": {},
   "outputs": [
    {
     "name": "stdout",
     "output_type": "stream",
     "text": [
      "a=5\n",
      "b=6\n",
      "c=7\n",
      "area : 14.696938456699069\n"
     ]
    }
   ],
   "source": [
    "class Triangle_sides:\n",
    "    def __init__(self,a,b,c):\n",
    "        self.a = float(a)\n",
    "        self.b = float(b)\n",
    "        self.c = float(c)\n",
    "    \n",
    "a= int(input(\"a=\"))\n",
    "b= int(input(\"b=\"))\n",
    "c= int(input(\"c=\"))\n",
    " \n",
    "class Triangle_cal(Triangle_sides):\n",
    "    def __init__(self,a,b,c):\n",
    "        super().__init__(a,b,c)\n",
    "\n",
    "    def Calculation(self):\n",
    "        s = (a + b + c) / 2\n",
    "        return (s*(s-a)*(s-b)*(s-c)) ** 0.5        \n",
    "\n",
    "t = Triangle_cal(a,b,c)\n",
    "print(\"area : {}\".format(t.Calculation()))"
   ]
  },
  {
   "cell_type": "markdown",
   "metadata": {},
   "source": [
    "### 1.2 Write a function filter_long_words() that takes a list of words and an integer n and returns the list of words that are longer than n."
   ]
  },
  {
   "cell_type": "code",
   "execution_count": 34,
   "metadata": {},
   "outputs": [
    {
     "name": "stdout",
     "output_type": "stream",
     "text": [
      "Enter words Seperated by , :aasd,asdas,gvva,ssssssssssss\n",
      "Enter Min Length:7\n",
      "Words with at least min length: ['ssssssssssss']\n"
     ]
    }
   ],
   "source": [
    "def filter_long_words(l,a):\n",
    "    words=[]\n",
    "    for i in l:\n",
    "        if(len(i)>=a):\n",
    "            words.append(i)\n",
    "    return words\n",
    "\n",
    "word=input(\"Enter words Seperated by , :\")\n",
    "sword=word.split(\",\")\n",
    "intg=input(\"Enter Min Length:\")\n",
    "longer=filter_long_words(sword,int(intg))\n",
    "\n",
    "print(\"Words with at least min length:\",longer)"
   ]
  },
  {
   "cell_type": "markdown",
   "metadata": {},
   "source": [
    "###  2.1 Write a Python program using function concept that maps list of words into a list of integers representing the lengths of the corresponding words.\n",
    "Hint: If a list [ ab,cde,erty] is passed on to the python function output should come as [2,3,4]\n",
    "Here 2,3 and 4 are the lengths of the words in the list."
   ]
  },
  {
   "cell_type": "code",
   "execution_count": 1,
   "metadata": {},
   "outputs": [
    {
     "name": "stdout",
     "output_type": "stream",
     "text": [
      "Enter words Seperated by , comma :-ab,cde,erty\n"
     ]
    },
    {
     "data": {
      "text/plain": [
       "[2, 3, 4]"
      ]
     },
     "execution_count": 1,
     "metadata": {},
     "output_type": "execute_result"
    }
   ],
   "source": [
    "wordinput=input(\"Enter words Seperated by , comma :-\").split(\",\")\n",
    "\n",
    "def word(wordinput):\n",
    "    return list(map(lambda x: len(x),wordinput))\n",
    "\n",
    "word(wordinput)"
   ]
  },
  {
   "cell_type": "markdown",
   "metadata": {},
   "source": [
    "### 2.2 Write a Python function which takes a character (i.e. a string of length 1) and returns True if it is a vowel, False otherwise."
   ]
  },
  {
   "cell_type": "code",
   "execution_count": 2,
   "metadata": {},
   "outputs": [
    {
     "name": "stdout",
     "output_type": "stream",
     "text": [
      "Enter a Word to check ,is it Vowel or not :-  j\n",
      "No j is not a vowel\n"
     ]
    }
   ],
   "source": [
    "def vowel_checker(word):\n",
    "    \n",
    " if(word == 'a' or word == 'e' or word == 'i' or word == 'o' or word == 'u' or word == 'A' or word == 'E' or word == 'I' or word == 'O' or word == 'U'):\n",
    "  return True\n",
    " else:\n",
    "  return False\n",
    "\n",
    "\n",
    "word = input(\"Enter a Word to check ,is it Vowel or not :-  \")  # Take user's input\n",
    "\n",
    "\n",
    "if (vowel_checker(word)):\n",
    " print(\"Yes\" ,word, \"is a vowel\")\n",
    "else:\n",
    " print(\"No\",word, \"is not a vowel\") "
   ]
  },
  {
   "cell_type": "code",
   "execution_count": null,
   "metadata": {},
   "outputs": [],
   "source": []
  }
 ],
 "metadata": {
  "kernelspec": {
   "display_name": "Python 3",
   "language": "python",
   "name": "python3"
  },
  "language_info": {
   "codemirror_mode": {
    "name": "ipython",
    "version": 3
   },
   "file_extension": ".py",
   "mimetype": "text/x-python",
   "name": "python",
   "nbconvert_exporter": "python",
   "pygments_lexer": "ipython3",
   "version": "3.8.5"
  }
 },
 "nbformat": 4,
 "nbformat_minor": 4
}
